{
 "cells": [
  {
   "cell_type": "code",
   "execution_count": 1,
   "metadata": {},
   "outputs": [],
   "source": [
    "from IPython.core.interactiveshell import InteractiveShell\n",
    "InteractiveShell.ast_node_interactivity = \"all\"\n",
    "%matplotlib inline\n",
    "\n",
    "import numpy as np\n",
    "import pandas as pd\n",
    "import matplotlib.pyplot as plt"
   ]
  },
  {
   "cell_type": "markdown",
   "metadata": {},
   "source": [
    "## Normal Equation Class"
   ]
  },
  {
   "cell_type": "code",
   "execution_count": 26,
   "metadata": {},
   "outputs": [],
   "source": [
    "import numpy as np\n",
    "import math\n",
    "\n",
    "class NormalEquation:\n",
    "\n",
    "  #constructor\n",
    "  def _init_(self):\n",
    "    self.X = 0\n",
    "\n",
    "  #Compulsory to pass Y as a row matrix since used to derive the formula used later\n",
    "  #Compulsory to add the X0 independent feature i.e bias [1 1 1 ...] in data preprocessing step in your table as used to derive the formula used later\n",
    "  #returns nothing\n",
    "  def fit(self,X,Y):\n",
    "    self.X = X          \n",
    "    self.Y = Y\n",
    "\n",
    "    # calculating theta using the formula ***(theta) = ((x)t.(x))-1.((x)t.(y)t)**** -- t means transpose --(-1) means inverse\n",
    "    self.theta = np.dot(np.linalg.inv(np.dot(self.X.transpose(), self.X)), np.dot(self.X.transpose(), self.Y.transpose()))\n",
    "\n",
    "  # returns an array of [c m1 m2 m3......mn]    \n",
    "  def coef_(self):       \n",
    "    return self.theta     \n",
    "\n",
    "  #returns an array of predicted values\n",
    "  def predict(self,x_test):\n",
    "    return np.dot(x_test,self.theta.transpose())"
   ]
  },
  {
   "cell_type": "markdown",
   "metadata": {},
   "source": [
    "## Gradient Descent Class"
   ]
  },
  {
   "cell_type": "code",
   "execution_count": 27,
   "metadata": {},
   "outputs": [],
   "source": [
    "import numpy as np\n",
    "\n",
    "class GradientDescent:\n",
    "\n",
    "  #constructor\n",
    "  def _init_(self):\n",
    "    self.X = 0\n",
    "\n",
    "  #Compulsory to add the X0 independent feature i.e bias [1 1 1 ...] in data preprocessing step in your table as used to derive the formula used later\n",
    "  #Compulsory to pass Y as a row matrix since used to derive the formula used later\n",
    "  #returns nothing\n",
    "  def fit(self,X,Y,learning_rate = 0.000001,no_of_iterations = 10000):\n",
    "    self.X = X\n",
    "    self.Y = Y\n",
    "\n",
    "    #taking all [c,m1,m2...] as [0,0,0.....] as initial random value and representing this in a matrix named theta\n",
    "    self.current_theta = np.zeros((self.X.shape[1]))   \n",
    "    \n",
    "    #calculating intial error using the formula ***(error) = (X.(theta)t - (Y)t).(X.(theta)t - (Y)t)t*** -- t means transpose -some people divide this by 2\n",
    "    self.current_error = (np.dot(np.dot(self.X,self.current_theta.transpose()) - self.Y.transpose(),(np.dot(self.X,self.current_theta.transpose()) - self.Y.transpose()).transpose()))/2\n",
    "    self.error_diff = self.current_error\n",
    "\n",
    "    # to keep a count of iterations that has occured\n",
    "    self.no_of_iteration = 0;\n",
    "\n",
    "    # making a list to store error every 50 iterations\n",
    "    self.error_every_50_iteration_list = list()\n",
    "    self.error_every_50_iteration_list.append(self.current_error)\n",
    "\n",
    "    #iterating utill the difference between two errors is <= 0.001 i.e negligible\n",
    "    while(self.error_diff > 0.00000001):\n",
    "      #calculating (theta)new = (theta)current - (leaning rate)(derivative term)\n",
    "      #(derivative term) = 2*(X)t.(X.(current_theta)-(Y)t) --usually people divide derivative term with (2)\n",
    "      self.new_theta = self.current_theta - (learning_rate)*(np.dot(self.X.transpose(),(np.dot(self.X,self.current_theta)-self.Y.transpose())))\n",
    "\n",
    "      #caluclating error using formula ***(error) = (X.(theta)t - (Y)t).(X.(theta)t - (Y)t)t*** -- t means transpose -some people divide this by 2\n",
    "      self.new_error = (np.dot(np.dot(self.X,self.new_theta.transpose()) - self.Y.transpose(),(np.dot(self.X,self.new_theta.transpose()) - self.Y.transpose()).transpose()))/2\n",
    "\n",
    "      #updating the error difference\n",
    "      self.error_diff = self.current_error - self.new_error\n",
    "      self.current_error = self.new_error\n",
    "      self.current_theta = self.new_theta\n",
    "      \n",
    "      #counting the no of interation taken to run the algorithm\n",
    "      self.no_of_iteration = self.no_of_iteration + 1\n",
    "\n",
    "      #storing the error after every 50 iterations\n",
    "      if(self.no_of_iteration % 50 == 0):\n",
    "        self.error_every_50_iteration_list.append(self.new_error)\n",
    "\n",
    "      #breaking if no_of_iteration for achieving error_diff = 0.00000001 exceeds the no_of_iterations specified by user\n",
    "      if(self.no_of_iteration > no_of_iterations):\n",
    "        break;\n",
    "\n",
    "  # returns an array of [c m1 m2 m3......mn]    \n",
    "  def coef_(self):      \n",
    "    return self.new_theta\n",
    "\n",
    "  #returns no of interations taken and also returns an array with error every 50 iteration\n",
    "  def error_every_50_iteration(self):     \n",
    "    return self.no_of_iteration,np.array(self.error_every_50_iteration_list)\n",
    "\n",
    "  #returns an array of predicted values\n",
    "  def predict(self,x):\n",
    "    return np.dot(x,self.new_theta.transpose())"
   ]
  },
  {
   "cell_type": "markdown",
   "metadata": {},
   "source": [
    "## Stochastic Gradient Descent Class"
   ]
  },
  {
   "cell_type": "code",
   "execution_count": 28,
   "metadata": {},
   "outputs": [],
   "source": [
    "import numpy as np\n",
    "import random\n",
    "\n",
    "class StochasticGradientDescent:\n",
    "\n",
    "  #constructor\n",
    "  def _init_(self):\n",
    "    self.X = 0\n",
    "\n",
    "  #Compulsory to pass Y as a row matrix since used to derive the formula used later\n",
    "  #Compulsory to add the X0 independent feature i.e bias [1 1 1 ...] in data preprocessing step in your table as used to derive the formula used later\n",
    "  #returns nothing\n",
    "  def fit(self,X,Y,learning_rate = 0.000001,no_of_iteration = 10000):\n",
    "    \n",
    "    self.X = X\n",
    "    self.Y = Y\n",
    "\n",
    "    #taking all [c,m1,m2...] as [0,0,0.....] and representing this in a matrix named theta\n",
    "    self.current_theta = np.zeros((self.X.shape[1]))   \n",
    "\n",
    "    # making a list to store error every 50 iterations\n",
    "    self.error_every_50_iteration_list = list()\n",
    "\n",
    "    for i in range(no_of_iteration + 1):\n",
    "      #generating a random point\n",
    "      self.Xp = list()\n",
    "      self.Yp = list()\n",
    "      random_no = random.randint(0,len(self.Y)-1)\n",
    "      self.Xp.append(X[random_no])\n",
    "      self.Yp.append(Y[random_no])\n",
    "\n",
    "      #converting list into numpy array cause numpy is very fast\n",
    "      self.Xp = np.array(self.Xp)\n",
    "      self.Yp = np.array(self.Yp)\n",
    "\n",
    "      #calculating (theta)new = (theta)current - (leaning rate)(derivative term)\n",
    "      #(derivative term) = 2*(Xp)t.(Xp.(current_theta)-(Yp)t) --usually people divide derivative term with (2)*(no of datapoints) --some people divide it by 2\n",
    "      self.new_theta = self.current_theta - (learning_rate)*(np.dot(self.Xp.transpose(),(np.dot(self.Xp,self.current_theta)-self.Yp.transpose())))\n",
    "\n",
    "      #caluclating error using formula ***(error due to all points) = (X.(theta)t - (Y)t).(X.(theta)t - (Y)t)t*** -- t means transpose --some people divide it by 2\n",
    "      self.error = (np.dot(np.dot(self.X,self.new_theta.transpose()) - self.Y.transpose(),(np.dot(self.X,self.new_theta.transpose()) - self.Y.transpose()).transpose()))/2\n",
    "\n",
    "      self.current_theta = self.new_theta\n",
    "\n",
    "      #storing the error after every 50 iterations\n",
    "      if(i % 50 == 0):\n",
    "        self.error_every_50_iteration_list.append(self.error)\n",
    "\n",
    "  #returns an array of estimated parameters [c,m1,m2.....,mn]\n",
    "  def coef_(self): \n",
    "    return self.new_theta\n",
    "\n",
    "  #returns an array with error every 50 iteration\n",
    "  def error_every_50_iteration(self):     \n",
    "    return np.array(self.error_every_50_iteration_list)\n",
    "\n",
    "  #returns an array of predicted values\n",
    "  def predict(self,x):     \n",
    "    return np.dot(x,self.new_theta.transpose())"
   ]
  },
  {
   "cell_type": "markdown",
   "metadata": {},
   "source": [
    "## Evaluation Metric Class"
   ]
  },
  {
   "cell_type": "code",
   "execution_count": 30,
   "metadata": {},
   "outputs": [],
   "source": [
    "import numpy as np\n",
    "import math\n",
    "\n",
    "#pass y_actual and y_pred as numpy row array\n",
    "class evaluation_metric:\n",
    "\n",
    "    #constructor\n",
    "    def _init_(self):\n",
    "        self.y_pred = 0\n",
    "        self.y_actual = 0\n",
    "\n",
    "    #to caluculate *******root mean squared error = root(mean(sum(square(y_actual - y_pred))))*******\n",
    "    def rmse(self , y_actual , y_pred):\n",
    "        self.RMSE = 0;\n",
    "        self.RMSE = math.sqrt((np.sum(((y_actual - y_pred)*(y_actual - y_pred))))/len(y_actual))\n",
    "        return self.RMSE\n",
    "\n",
    "    #to calculate ******* mean squared error = mean(sum(square(y_actual - y_pred))) **********        \n",
    "    def mse(self , y_actual , y_pred):\n",
    "        self.MSE = 0;\n",
    "        self.MSE = np.sum(((y_actual - y_pred)*(y_actual - y_pred)))/len(y_actual)\n",
    "        return self.MSE\n",
    "\n",
    "    #to calculate *******total sum of square of residue = 0.5*sum(square(y_actual - y_pred))*********\n",
    "    def ssres(self , y_actual , y_pred):\n",
    "        self.SSRES = 0\n",
    "        self.SSRES = (np.sum((y_actual - y_pred)*(y_actual - y_pred)))/2\n",
    "        return self.SSRES"
   ]
  },
  {
   "cell_type": "markdown",
   "metadata": {},
   "source": [
    "# Data Preprocessing "
   ]
  },
  {
   "cell_type": "code",
   "execution_count": 31,
   "metadata": {},
   "outputs": [
    {
     "data": {
      "text/html": [
       "<div>\n",
       "<style scoped>\n",
       "    .dataframe tbody tr th:only-of-type {\n",
       "        vertical-align: middle;\n",
       "    }\n",
       "\n",
       "    .dataframe tbody tr th {\n",
       "        vertical-align: top;\n",
       "    }\n",
       "\n",
       "    .dataframe thead th {\n",
       "        text-align: right;\n",
       "    }\n",
       "</style>\n",
       "<table border=\"1\" class=\"dataframe\">\n",
       "  <thead>\n",
       "    <tr style=\"text-align: right;\">\n",
       "      <th></th>\n",
       "      <th>age</th>\n",
       "      <th>bmi</th>\n",
       "      <th>children</th>\n",
       "      <th>charges</th>\n",
       "    </tr>\n",
       "  </thead>\n",
       "  <tbody>\n",
       "    <tr>\n",
       "      <th>0</th>\n",
       "      <td>19</td>\n",
       "      <td>27.900</td>\n",
       "      <td>0</td>\n",
       "      <td>16884.92400</td>\n",
       "    </tr>\n",
       "    <tr>\n",
       "      <th>1</th>\n",
       "      <td>18</td>\n",
       "      <td>33.770</td>\n",
       "      <td>1</td>\n",
       "      <td>1725.55230</td>\n",
       "    </tr>\n",
       "    <tr>\n",
       "      <th>2</th>\n",
       "      <td>28</td>\n",
       "      <td>33.000</td>\n",
       "      <td>3</td>\n",
       "      <td>4449.46200</td>\n",
       "    </tr>\n",
       "    <tr>\n",
       "      <th>3</th>\n",
       "      <td>33</td>\n",
       "      <td>22.705</td>\n",
       "      <td>0</td>\n",
       "      <td>21984.47061</td>\n",
       "    </tr>\n",
       "    <tr>\n",
       "      <th>4</th>\n",
       "      <td>32</td>\n",
       "      <td>28.880</td>\n",
       "      <td>0</td>\n",
       "      <td>3866.85520</td>\n",
       "    </tr>\n",
       "    <tr>\n",
       "      <th>...</th>\n",
       "      <td>...</td>\n",
       "      <td>...</td>\n",
       "      <td>...</td>\n",
       "      <td>...</td>\n",
       "    </tr>\n",
       "    <tr>\n",
       "      <th>1333</th>\n",
       "      <td>50</td>\n",
       "      <td>30.970</td>\n",
       "      <td>3</td>\n",
       "      <td>10600.54830</td>\n",
       "    </tr>\n",
       "    <tr>\n",
       "      <th>1334</th>\n",
       "      <td>18</td>\n",
       "      <td>31.920</td>\n",
       "      <td>0</td>\n",
       "      <td>2205.98080</td>\n",
       "    </tr>\n",
       "    <tr>\n",
       "      <th>1335</th>\n",
       "      <td>18</td>\n",
       "      <td>36.850</td>\n",
       "      <td>0</td>\n",
       "      <td>1629.83350</td>\n",
       "    </tr>\n",
       "    <tr>\n",
       "      <th>1336</th>\n",
       "      <td>21</td>\n",
       "      <td>25.800</td>\n",
       "      <td>0</td>\n",
       "      <td>2007.94500</td>\n",
       "    </tr>\n",
       "    <tr>\n",
       "      <th>1337</th>\n",
       "      <td>61</td>\n",
       "      <td>29.070</td>\n",
       "      <td>0</td>\n",
       "      <td>29141.36030</td>\n",
       "    </tr>\n",
       "  </tbody>\n",
       "</table>\n",
       "<p>1338 rows × 4 columns</p>\n",
       "</div>"
      ],
      "text/plain": [
       "      age     bmi  children      charges\n",
       "0      19  27.900         0  16884.92400\n",
       "1      18  33.770         1   1725.55230\n",
       "2      28  33.000         3   4449.46200\n",
       "3      33  22.705         0  21984.47061\n",
       "4      32  28.880         0   3866.85520\n",
       "...   ...     ...       ...          ...\n",
       "1333   50  30.970         3  10600.54830\n",
       "1334   18  31.920         0   2205.98080\n",
       "1335   18  36.850         0   1629.83350\n",
       "1336   21  25.800         0   2007.94500\n",
       "1337   61  29.070         0  29141.36030\n",
       "\n",
       "[1338 rows x 4 columns]"
      ]
     },
     "execution_count": 31,
     "metadata": {},
     "output_type": "execute_result"
    },
    {
     "data": {
      "text/plain": [
       "(1338, 4)"
      ]
     },
     "execution_count": 31,
     "metadata": {},
     "output_type": "execute_result"
    }
   ],
   "source": [
    "df = pd.read_csv('dataset/insurance.txt')\n",
    "df\n",
    "df.shape"
   ]
  },
  {
   "cell_type": "markdown",
   "metadata": {},
   "source": [
    "### normalizing all the columns\n",
    "X -> (X - mean)/standard deviation"
   ]
  },
  {
   "cell_type": "code",
   "execution_count": 32,
   "metadata": {},
   "outputs": [
    {
     "data": {
      "text/html": [
       "<div>\n",
       "<style scoped>\n",
       "    .dataframe tbody tr th:only-of-type {\n",
       "        vertical-align: middle;\n",
       "    }\n",
       "\n",
       "    .dataframe tbody tr th {\n",
       "        vertical-align: top;\n",
       "    }\n",
       "\n",
       "    .dataframe thead th {\n",
       "        text-align: right;\n",
       "    }\n",
       "</style>\n",
       "<table border=\"1\" class=\"dataframe\">\n",
       "  <thead>\n",
       "    <tr style=\"text-align: right;\">\n",
       "      <th></th>\n",
       "      <th>age</th>\n",
       "      <th>bmi</th>\n",
       "      <th>children</th>\n",
       "      <th>charges</th>\n",
       "    </tr>\n",
       "  </thead>\n",
       "  <tbody>\n",
       "    <tr>\n",
       "      <th>0</th>\n",
       "      <td>-1.438764</td>\n",
       "      <td>-0.453320</td>\n",
       "      <td>-0.908614</td>\n",
       "      <td>0.298584</td>\n",
       "    </tr>\n",
       "    <tr>\n",
       "      <th>1</th>\n",
       "      <td>-1.509965</td>\n",
       "      <td>0.509621</td>\n",
       "      <td>-0.078767</td>\n",
       "      <td>-0.953689</td>\n",
       "    </tr>\n",
       "    <tr>\n",
       "      <th>2</th>\n",
       "      <td>-0.797954</td>\n",
       "      <td>0.383307</td>\n",
       "      <td>1.580926</td>\n",
       "      <td>-0.728675</td>\n",
       "    </tr>\n",
       "    <tr>\n",
       "      <th>3</th>\n",
       "      <td>-0.441948</td>\n",
       "      <td>-1.305531</td>\n",
       "      <td>-0.908614</td>\n",
       "      <td>0.719843</td>\n",
       "    </tr>\n",
       "    <tr>\n",
       "      <th>4</th>\n",
       "      <td>-0.513149</td>\n",
       "      <td>-0.292556</td>\n",
       "      <td>-0.908614</td>\n",
       "      <td>-0.776802</td>\n",
       "    </tr>\n",
       "    <tr>\n",
       "      <th>5</th>\n",
       "      <td>-0.584350</td>\n",
       "      <td>-0.807656</td>\n",
       "      <td>-0.908614</td>\n",
       "      <td>-0.785908</td>\n",
       "    </tr>\n",
       "    <tr>\n",
       "      <th>6</th>\n",
       "      <td>0.483668</td>\n",
       "      <td>0.455486</td>\n",
       "      <td>-0.078767</td>\n",
       "      <td>-0.415500</td>\n",
       "    </tr>\n",
       "    <tr>\n",
       "      <th>7</th>\n",
       "      <td>-0.157143</td>\n",
       "      <td>-0.479567</td>\n",
       "      <td>1.580926</td>\n",
       "      <td>-0.494728</td>\n",
       "    </tr>\n",
       "    <tr>\n",
       "      <th>8</th>\n",
       "      <td>-0.157143</td>\n",
       "      <td>-0.136714</td>\n",
       "      <td>0.751079</td>\n",
       "      <td>-0.567017</td>\n",
       "    </tr>\n",
       "    <tr>\n",
       "      <th>9</th>\n",
       "      <td>1.480485</td>\n",
       "      <td>-0.791252</td>\n",
       "      <td>-0.908614</td>\n",
       "      <td>1.293027</td>\n",
       "    </tr>\n",
       "  </tbody>\n",
       "</table>\n",
       "</div>"
      ],
      "text/plain": [
       "        age       bmi  children   charges\n",
       "0 -1.438764 -0.453320 -0.908614  0.298584\n",
       "1 -1.509965  0.509621 -0.078767 -0.953689\n",
       "2 -0.797954  0.383307  1.580926 -0.728675\n",
       "3 -0.441948 -1.305531 -0.908614  0.719843\n",
       "4 -0.513149 -0.292556 -0.908614 -0.776802\n",
       "5 -0.584350 -0.807656 -0.908614 -0.785908\n",
       "6  0.483668  0.455486 -0.078767 -0.415500\n",
       "7 -0.157143 -0.479567  1.580926 -0.494728\n",
       "8 -0.157143 -0.136714  0.751079 -0.567017\n",
       "9  1.480485 -0.791252 -0.908614  1.293027"
      ]
     },
     "execution_count": 32,
     "metadata": {},
     "output_type": "execute_result"
    }
   ],
   "source": [
    "col_names = np.array(df.columns)\n",
    "for i in col_names:\n",
    "    col = np.array(df[i])\n",
    "    mean_col = np.mean(col)\n",
    "    std_col = np.std(col)\n",
    "    norm_col = []\n",
    "    for j in col:\n",
    "        norm_col.append((j-mean_col)/std_col)\n",
    "    df[i] = norm_col\n",
    "df.head(10)"
   ]
  },
  {
   "cell_type": "markdown",
   "metadata": {},
   "source": [
    "### adding bias column"
   ]
  },
  {
   "cell_type": "code",
   "execution_count": 33,
   "metadata": {},
   "outputs": [
    {
     "data": {
      "text/html": [
       "<div>\n",
       "<style scoped>\n",
       "    .dataframe tbody tr th:only-of-type {\n",
       "        vertical-align: middle;\n",
       "    }\n",
       "\n",
       "    .dataframe tbody tr th {\n",
       "        vertical-align: top;\n",
       "    }\n",
       "\n",
       "    .dataframe thead th {\n",
       "        text-align: right;\n",
       "    }\n",
       "</style>\n",
       "<table border=\"1\" class=\"dataframe\">\n",
       "  <thead>\n",
       "    <tr style=\"text-align: right;\">\n",
       "      <th></th>\n",
       "      <th>bias</th>\n",
       "      <th>age</th>\n",
       "      <th>bmi</th>\n",
       "      <th>children</th>\n",
       "      <th>charges</th>\n",
       "    </tr>\n",
       "  </thead>\n",
       "  <tbody>\n",
       "    <tr>\n",
       "      <th>0</th>\n",
       "      <td>1</td>\n",
       "      <td>-1.438764</td>\n",
       "      <td>-0.453320</td>\n",
       "      <td>-0.908614</td>\n",
       "      <td>0.298584</td>\n",
       "    </tr>\n",
       "    <tr>\n",
       "      <th>1</th>\n",
       "      <td>1</td>\n",
       "      <td>-1.509965</td>\n",
       "      <td>0.509621</td>\n",
       "      <td>-0.078767</td>\n",
       "      <td>-0.953689</td>\n",
       "    </tr>\n",
       "    <tr>\n",
       "      <th>2</th>\n",
       "      <td>1</td>\n",
       "      <td>-0.797954</td>\n",
       "      <td>0.383307</td>\n",
       "      <td>1.580926</td>\n",
       "      <td>-0.728675</td>\n",
       "    </tr>\n",
       "    <tr>\n",
       "      <th>3</th>\n",
       "      <td>1</td>\n",
       "      <td>-0.441948</td>\n",
       "      <td>-1.305531</td>\n",
       "      <td>-0.908614</td>\n",
       "      <td>0.719843</td>\n",
       "    </tr>\n",
       "    <tr>\n",
       "      <th>4</th>\n",
       "      <td>1</td>\n",
       "      <td>-0.513149</td>\n",
       "      <td>-0.292556</td>\n",
       "      <td>-0.908614</td>\n",
       "      <td>-0.776802</td>\n",
       "    </tr>\n",
       "    <tr>\n",
       "      <th>...</th>\n",
       "      <td>...</td>\n",
       "      <td>...</td>\n",
       "      <td>...</td>\n",
       "      <td>...</td>\n",
       "      <td>...</td>\n",
       "    </tr>\n",
       "    <tr>\n",
       "      <th>1333</th>\n",
       "      <td>1</td>\n",
       "      <td>0.768473</td>\n",
       "      <td>0.050297</td>\n",
       "      <td>1.580926</td>\n",
       "      <td>-0.220551</td>\n",
       "    </tr>\n",
       "    <tr>\n",
       "      <th>1334</th>\n",
       "      <td>1</td>\n",
       "      <td>-1.509965</td>\n",
       "      <td>0.206139</td>\n",
       "      <td>-0.908614</td>\n",
       "      <td>-0.914002</td>\n",
       "    </tr>\n",
       "    <tr>\n",
       "      <th>1335</th>\n",
       "      <td>1</td>\n",
       "      <td>-1.509965</td>\n",
       "      <td>1.014878</td>\n",
       "      <td>-0.908614</td>\n",
       "      <td>-0.961596</td>\n",
       "    </tr>\n",
       "    <tr>\n",
       "      <th>1336</th>\n",
       "      <td>1</td>\n",
       "      <td>-1.296362</td>\n",
       "      <td>-0.797813</td>\n",
       "      <td>-0.908614</td>\n",
       "      <td>-0.930362</td>\n",
       "    </tr>\n",
       "    <tr>\n",
       "      <th>1337</th>\n",
       "      <td>1</td>\n",
       "      <td>1.551686</td>\n",
       "      <td>-0.261388</td>\n",
       "      <td>-0.908614</td>\n",
       "      <td>1.311053</td>\n",
       "    </tr>\n",
       "  </tbody>\n",
       "</table>\n",
       "<p>1338 rows × 5 columns</p>\n",
       "</div>"
      ],
      "text/plain": [
       "      bias       age       bmi  children   charges\n",
       "0        1 -1.438764 -0.453320 -0.908614  0.298584\n",
       "1        1 -1.509965  0.509621 -0.078767 -0.953689\n",
       "2        1 -0.797954  0.383307  1.580926 -0.728675\n",
       "3        1 -0.441948 -1.305531 -0.908614  0.719843\n",
       "4        1 -0.513149 -0.292556 -0.908614 -0.776802\n",
       "...    ...       ...       ...       ...       ...\n",
       "1333     1  0.768473  0.050297  1.580926 -0.220551\n",
       "1334     1 -1.509965  0.206139 -0.908614 -0.914002\n",
       "1335     1 -1.509965  1.014878 -0.908614 -0.961596\n",
       "1336     1 -1.296362 -0.797813 -0.908614 -0.930362\n",
       "1337     1  1.551686 -0.261388 -0.908614  1.311053\n",
       "\n",
       "[1338 rows x 5 columns]"
      ]
     },
     "execution_count": 33,
     "metadata": {},
     "output_type": "execute_result"
    }
   ],
   "source": [
    "bias = [1 for i in range(1338)]\n",
    "df.insert(loc = 0 , column = \"bias\" , value = bias )\n",
    "df"
   ]
  },
  {
   "cell_type": "code",
   "execution_count": 34,
   "metadata": {},
   "outputs": [],
   "source": [
    "#test_train split of (70:30) we need to put 936 rows in train dataset and rest in test data\n",
    "df_train = df.iloc[0:936]\n",
    "df_test = df.iloc[936:]\n",
    "x_train = np.array(df_train.iloc[:,[0,1,2,3]])\n",
    "y_train = np.array(df_train.iloc[:,4])\n",
    "x_test = np.array(df_test.iloc[:,[0,1,2,3]])\n",
    "y_test = np.array(df_test.iloc[:,4])"
   ]
  },
  {
   "cell_type": "markdown",
   "metadata": {},
   "source": [
    "# Linear Regression Using Normal_Equation"
   ]
  },
  {
   "cell_type": "code",
   "execution_count": 35,
   "metadata": {},
   "outputs": [],
   "source": [
    "#creating objects of user defined class\n",
    "normal_regressor = NormalEquation()\n",
    "m = evaluation_metric()"
   ]
  },
  {
   "cell_type": "code",
   "execution_count": 36,
   "metadata": {},
   "outputs": [
    {
     "name": "stdout",
     "output_type": "stream",
     "text": [
      "Cofficients : [-0.02981352  0.2999276   0.15798607  0.03405244]\n",
      "\n",
      "RMSE--Train: 0.9263889843274103\n",
      "MSE--Train: 0.858196550283171\n",
      "Total Error--Train: 401.63598553252405\n",
      "\n",
      "RMSE--Test: 0.9676250225695413\n",
      "MSE--Test: 0.9362981843027053\n",
      "Total Error--Test: 188.19593504484376\n",
      "\n"
     ]
    }
   ],
   "source": [
    "#**********************no shuffling********************\n",
    "\n",
    "#training and printing coefficients\n",
    "normal_regressor.fit(x_train,y_train)\n",
    "coef = normal_regressor.coef_()\n",
    "print('Cofficients : {}'.format(coef))\n",
    "print('')\n",
    "\n",
    "#calculating accuracy for training dataset\n",
    "y_pred_train = normal_regressor.predict(x_train)\n",
    "#print(y_train)\n",
    "#print(y_pred_train)\n",
    "print('RMSE--Train: {}'.format(m.rmse(y_train,y_pred_train)))\n",
    "print('MSE--Train: {}'.format(m.mse(y_train,y_pred_train)))\n",
    "print('Total Error--Train: {}'.format(m.ssres(y_train,y_pred_train)))\n",
    "print(\"\")\n",
    "\n",
    "#calculating accuracy for testing dataset\n",
    "y_pred_test = normal_regressor.predict(x_test)\n",
    "#print(y_test)\n",
    "#print(y_pred_test)\n",
    "print('RMSE--Test: {}'.format(m.rmse(y_test,y_pred_test)))\n",
    "print('MSE--Test: {}'.format(m.mse(y_test,y_pred_test)))\n",
    "print('Total Error--Test: {}'.format(m.ssres(y_test,y_pred_test)))\n",
    "print(\"\")"
   ]
  },
  {
   "cell_type": "code",
   "execution_count": 38,
   "metadata": {},
   "outputs": [
    {
     "name": "stdout",
     "output_type": "stream",
     "text": [
      "Cofficients in each shuffle: [array([-0.00980473,  0.24325247,  0.18729735,  0.06237899]), array([0.04243356, 0.27504535, 0.22758588, 0.04929214]), array([-0.01307454,  0.30306201,  0.14187731,  0.05179286]), array([0.00146089, 0.29091345, 0.14798687, 0.04797139]), array([-0.01446793,  0.27287923,  0.1877012 ,  0.05226538]), array([0.01733972, 0.30254218, 0.1670667 , 0.04277124]), array([0.03667795, 0.25995332, 0.19099404, 0.08815804]), array([-0.00368141,  0.28317622,  0.15618593,  0.07176965]), array([-0.01580228,  0.27357095,  0.16723044,  0.0477073 ]), array([-0.02464493,  0.30031808,  0.17173063,  0.05902314]), array([2.31618722e-04, 2.76588361e-01, 1.75091198e-01, 3.36294216e-02]), array([-0.00409829,  0.26208453,  0.16453179,  0.04611234]), array([0.00093144, 0.26975902, 0.17300083, 0.02469852]), array([-0.00556403,  0.25682865,  0.15577541,  0.05211825]), array([-8.25575812e-05,  2.74245585e-01,  1.62477368e-01,  4.15006124e-02]), array([-0.02731766,  0.24202977,  0.17623932,  0.06334716]), array([-0.00298818,  0.28713474,  0.14107347,  0.05212336]), array([-0.01383015,  0.28955078,  0.14326553,  0.04651209]), array([0.007     , 0.28460492, 0.2039295 , 0.0520286 ]), array([-0.01029946,  0.27099237,  0.14211136,  0.04908893])]\n",
      "Average Cofficients: [-0.0019790485308918498, 0.27592659825328464, 0.1691576071432605, 0.05171446977176954]\n",
      "\n",
      "Total Error in each shuffle -- Train: [408.379638440893, 430.9120476926287, 391.98492525947785, 406.712598336964, 405.35530249310483, 420.67204931179776, 429.1425636048479, 413.2691073932108, 413.76084351419286, 395.1474145557768, 435.92163945528, 400.48813529259013, 410.47884262570705, 408.7814103181417, 414.06864430329637, 395.8480155483675, 408.7399410361123, 407.19031194406466, 416.1525870283798, 389.76558258648276]\n",
      "Mean Total Error -- Train: 410.1385800370658\n",
      "Variance in Total Error -- Train: 147.9980429056681\n",
      "\n",
      "Total Error in each shuffle -- Train: [181.3662838872332, 161.37311158934483, 197.52913442621093, 182.28208449198843, 183.72559965220645, 168.6410320104681, 161.71083044177826, 175.6948999689512, 175.10495528585582, 194.2846186426896, 153.0523495294551, 188.4174389173787, 178.8289634260492, 180.3351661352409, 174.7246224866184, 194.23893872729133, 180.39759295694958, 182.05592394231908, 173.495000290996, 199.46672278857193]\n",
      "Mean Total Error -- Train: 179.33626347987985\n",
      "Variance in Total Error -- Train: 141.5591951778075\n",
      "\n"
     ]
    }
   ],
   "source": [
    "#**************************performing 20 shuffles***********************\n",
    "coefficient_list = list() #to store all the coeff of all 20 difference splits\n",
    "\n",
    "accuracy_list_train = list() #to store training accuracy of all 20 different splits\n",
    "accuracy_list_test = list() #to store testing accuracy of all 20 different splits\n",
    "\n",
    "#making 20 shuffles\n",
    "for i in range(20): \n",
    "  #command used to shuffle dataset\n",
    "  df_shuffle = df.sample(frac=1) \n",
    "\n",
    "  #performing 70:30 test train split\n",
    "  df_train = df_shuffle.iloc[0:936]\n",
    "  df_test = df_shuffle.iloc[936:]\n",
    "  x_train = np.array(df_train.iloc[:,[0,1,2,3]])\n",
    "  y_train = np.array(df_train.iloc[:,4])\n",
    "  x_test = np.array(df_test.iloc[:,[0,1,2,3]])\n",
    "  y_test = np.array(df_test.iloc[:,4])\n",
    "\n",
    "  #training and storing coefficient\n",
    "  normal_regressor.fit(x_train,y_train)\n",
    "  coefficient_list.append(normal_regressor.coef_())\n",
    "\n",
    "  #calculating accuracy for training dataset\n",
    "  y_pred_train = normal_regressor.predict(x_train)\n",
    "  #print(y_train)\n",
    "  #print(y_pred_train)\n",
    "  accuracy_list_train.append(m.ssres(y_train,y_pred_train))\n",
    "\n",
    "  #calculating accuracy for testing dataset\n",
    "  y_pred_test = normal_regressor.predict(x_test)\n",
    "  #print(y_test)\n",
    "  #print(y_pred_test)\n",
    "  accuracy_list_test.append(m.ssres(y_test,y_pred_test))\n",
    "\n",
    "#printing coefficients\n",
    "print('Cofficients in each shuffle: {}'.format(coefficient_list))\n",
    "avg_cofficient = list()\n",
    "for j in range(4):\n",
    "  sum = 0\n",
    "  for i in range(20):\n",
    "    sum = sum + coefficient_list[i][j]\n",
    "  avg_cofficient.append(sum/20)\n",
    "print('Average Cofficients: {}'.format(avg_cofficient))\n",
    "print(\"\")\n",
    "\n",
    "#print training accuracy\n",
    "print('Total Error in each shuffle -- Train: {}'.format(accuracy_list_train))\n",
    "print('Mean Total Error -- Train: {}'.format(np.mean(np.array(accuracy_list_train))))\n",
    "print('Variance in Total Error -- Train: {}'.format(np.var(np.array(accuracy_list_train))))\n",
    "print(\"\")\n",
    "\n",
    "#print training accuracy\n",
    "print('Total Error in each shuffle -- Train: {}'.format(accuracy_list_test))\n",
    "print('Mean Total Error -- Train: {}'.format(np.mean(np.array(accuracy_list_test))))\n",
    "print('Variance in Total Error -- Train: {}'.format(np.var(np.array(accuracy_list_test))))\n",
    "print('')"
   ]
  },
  {
   "cell_type": "markdown",
   "metadata": {},
   "source": [
    "# Linear Regression Using Gradient_Descent"
   ]
  },
  {
   "cell_type": "code",
   "execution_count": 39,
   "metadata": {},
   "outputs": [],
   "source": [
    "#creating objects of the user defined class\n",
    "gradientdescent_regressor = GradientDescent()\n",
    "m = evaluation_metric()"
   ]
  },
  {
   "cell_type": "code",
   "execution_count": 40,
   "metadata": {},
   "outputs": [
    {
     "name": "stdout",
     "output_type": "stream",
     "text": [
      "*******************Learning Rate = 1e-07 ,  No of Epochs = 50001******************\n",
      "\n",
      "Error Every 50 Epochs : [462.17166351 461.54537882 460.92559948 ... 401.63856704 401.63854217\n",
      " 401.63851754]\n",
      "Cofficients : [-0.02894347  0.29787353  0.15748708  0.03429231]\n"
     ]
    },
    {
     "data": {
      "text/plain": [
       "Text(0.5, 0, 'Epochs')"
      ]
     },
     "execution_count": 40,
     "metadata": {},
     "output_type": "execute_result"
    },
    {
     "data": {
      "text/plain": [
       "Text(0, 0.5, 'Error')"
      ]
     },
     "execution_count": 40,
     "metadata": {},
     "output_type": "execute_result"
    },
    {
     "data": {
      "text/plain": [
       "Text(0.5, 1.0, 'Error V/S Epoch')"
      ]
     },
     "execution_count": 40,
     "metadata": {},
     "output_type": "execute_result"
    },
    {
     "data": {
      "text/plain": [
       "[<matplotlib.lines.Line2D at 0x212754c1af0>]"
      ]
     },
     "execution_count": 40,
     "metadata": {},
     "output_type": "execute_result"
    },
    {
     "data": {
      "image/png": "[encoded data removed]",
      "text/plain": [
       "<Figure size 432x288 with 1 Axes>"
      ]
     },
     "metadata": {
      "needs_background": "light"
     },
     "output_type": "display_data"
    },
    {
     "name": "stdout",
     "output_type": "stream",
     "text": [
      "RMSE--Train: 0.926391903849281\n",
      "MSE--Train: 0.8582019595174956\n",
      "Total Error--Train: 401.6385170541879\n",
      "\n",
      "RMSE--Test: 0.9673964019798942\n",
      "MSE--Test: 0.9358557985636451\n",
      "Total Error--Test: 188.10701551129267\n",
      "\n",
      "*******************Learning Rate = 1e-06 ,  No of Epochs = 8263******************\n",
      "\n",
      "Error Every 50 Epochs : [462.17166351 456.19090182 450.80320745 445.9495811  441.57690923\n",
      " 437.63737539 434.08793069 430.88981729 428.00813954 425.41147819\n",
      " 423.07154312 420.96286092 419.06249366 417.34978586 415.80613672\n",
      " 414.41479522 413.16067557 412.03019124 411.01110553 410.09239704\n",
      " 409.26413861 408.51738836 407.84409161 407.23699254 406.68955475\n",
      " 406.19588965 405.7506921  405.34918238 404.98705395 404.6604265\n",
      " 404.36580359 404.10003455 403.86028013 403.64398168 403.44883323\n",
      " 403.27275652 403.11387836 402.97051039 402.84113072 402.72436745\n",
      " 402.61898387 402.52386505 402.43800582 402.36049988 402.29053009\n",
      " 402.22735964 402.17032408 402.11882425 402.07231979 402.03032335\n",
      " 401.99239538 401.95813942 401.92719782 401.89924799 401.87399887\n",
      " 401.85118791 401.83057819 401.81195596 401.79512835 401.77992129\n",
      " 401.76617772 401.75375587 401.7425278  401.73237801 401.72320225\n",
      " 401.71490643 401.70740557 401.70062298 401.69448939 401.68894227\n",
      " 401.68392515 401.67938703 401.67528184 401.67156799 401.6682079\n",
      " 401.66516762 401.66241649 401.65992681 401.65767353 401.65563405\n",
      " 401.65378792 401.65211667 401.6506036  401.64923364 401.64799313\n",
      " 401.64686975 401.64585235 401.64493085 401.64409615 401.64334\n",
      " 401.64265494 401.64203424 401.64147181 401.64096212 401.64050019\n",
      " 401.64008152 401.639702   401.63935796 401.63904605 401.63876323\n",
      " 401.63850678 401.63827422 401.6380633  401.63787198 401.63769844\n",
      " 401.63754101 401.63739817 401.63726857 401.63715096 401.63704423\n",
      " 401.63694736 401.63685943 401.63677961 401.63670715 401.63664136\n",
      " 401.63658162 401.63652737 401.6364781  401.63643335 401.63639271\n",
      " 401.63635578 401.63632224 401.63629175 401.63626406 401.63623889\n",
      " 401.63621601 401.63619522 401.63617632 401.63615914 401.63614352\n",
      " 401.63612932 401.6361164  401.63610466 401.63609398 401.63608426\n",
      " 401.63607542 401.63606738 401.63606007 401.63605341 401.63604736\n",
      " 401.63604185 401.63603683 401.63603226 401.63602811 401.63602432\n",
      " 401.63602088 401.63601774 401.63601489 401.63601229 401.63600992\n",
      " 401.63600776 401.6360058  401.63600401 401.63600238 401.63600089\n",
      " 401.63599954 401.63599831 401.63599718 401.63599616 401.63599523\n",
      " 401.63599438 401.6359936  401.63599289 401.63599225 401.63599166\n",
      " 401.63599112]\n",
      "Cofficients : [-0.02975871  0.29983663  0.15798468  0.03407975]\n"
     ]
    },
    {
     "data": {
      "text/plain": [
       "Text(0.5, 0, 'Epochs')"
      ]
     },
     "execution_count": 40,
     "metadata": {},
     "output_type": "execute_result"
    },
    {
     "data": {
      "text/plain": [
       "Text(0, 0.5, 'Error')"
      ]
     },
     "execution_count": 40,
     "metadata": {},
     "output_type": "execute_result"
    },
    {
     "data": {
      "text/plain": [
       "Text(0.5, 1.0, 'Error V/S Epoch')"
      ]
     },
     "execution_count": 40,
     "metadata": {},
     "output_type": "execute_result"
    },
    {
     "data": {
      "text/plain": [
       "[<matplotlib.lines.Line2D at 0x2127555c970>]"
      ]
     },
     "execution_count": 40,
     "metadata": {},
     "output_type": "execute_result"
    },
    {
     "data": {
      "image/png": "[encoded data removed]",
      "text/plain": [
       "<Figure size 432x288 with 1 Axes>"
      ]
     },
     "metadata": {
      "needs_background": "light"
     },
     "output_type": "display_data"
    },
    {
     "name": "stdout",
     "output_type": "stream",
     "text": [
      "RMSE--Train: 0.9263889906241047\n",
      "MSE--Train: 0.8581965619495476\n",
      "Total Error--Train: 401.6359909923883\n",
      "\n",
      "RMSE--Test: 0.9676114974028989\n",
      "MSE--Test: 0.9362720099062802\n",
      "Total Error--Test: 188.19067399116233\n",
      "\n",
      "*******************Learning Rate = 1e-05 ,  No of Epochs = 950******************\n",
      "\n",
      "Error Every 50 Epochs : [462.17166351 422.9671404  409.19072324 404.32691425 402.60058099\n",
      " 401.98418531 401.76263944 401.68243239 401.65316635 401.64239811\n",
      " 401.63840108 401.63690391 401.63633791 401.63612195 401.6360388\n",
      " 401.6360065  401.63599385 401.63598885 401.63598687 401.63598607]\n",
      "Cofficients : [-0.02979538  0.29989989  0.15798815  0.0340627 ]\n"
     ]
    },
    {
     "data": {
      "text/plain": [
       "Text(0.5, 0, 'Epochs')"
      ]
     },
     "execution_count": 40,
     "metadata": {},
     "output_type": "execute_result"
    },
    {
     "data": {
      "text/plain": [
       "Text(0, 0.5, 'Error')"
      ]
     },
     "execution_count": 40,
     "metadata": {},
     "output_type": "execute_result"
    },
    {
     "data": {
      "text/plain": [
       "Text(0.5, 1.0, 'Error V/S Epoch')"
      ]
     },
     "execution_count": 40,
     "metadata": {},
     "output_type": "execute_result"
    },
    {
     "data": {
      "text/plain": [
       "[<matplotlib.lines.Line2D at 0x212755b8640>]"
      ]
     },
     "execution_count": 40,
     "metadata": {},
     "output_type": "execute_result"
    },
    {
     "data": {
      "image/png": "[encoded data removed]",
      "text/plain": [
       "<Figure size 432x288 with 1 Axes>"
      ]
     },
     "metadata": {
      "needs_background": "light"
     },
     "output_type": "display_data"
    },
    {
     "name": "stdout",
     "output_type": "stream",
     "text": [
      "RMSE--Train: 0.9263889849493351\n",
      "MSE--Train: 0.8581965514354595\n",
      "Total Error--Train: 401.63598607179506\n",
      "\n",
      "RMSE--Test: 0.9676205646558285\n",
      "MSE--Test: 0.9362895571448643\n",
      "Total Error--Test: 188.19420098611772\n",
      "\n"
     ]
    }
   ],
   "source": [
    "#**********************no shuffling********************\n",
    "#test_train split\n",
    "df_train = df.iloc[0:936]\n",
    "df_test = df.iloc[936:]\n",
    "x_train = np.array(df_train.iloc[:,[0,1,2,3]])\n",
    "y_train = np.array(df_train.iloc[:,4])\n",
    "x_test = np.array(df_test.iloc[:,[0,1,2,3]])\n",
    "y_test = np.array(df_test.iloc[:,4])\n",
    "\n",
    "#training\n",
    "learning_rate = [0.0000001,0.000001,0.00001]\n",
    "for i in learning_rate:\n",
    "  gradientdescent_regressor.fit(x_train,y_train,i,50000)\n",
    "  coef = gradientdescent_regressor.coef_()\n",
    "  no_of_iteration , error_every_50_iteration = gradientdescent_regressor.error_every_50_iteration()\n",
    "  print(\"*******************Learning Rate = {} ,  No of Epochs = {}******************\".format(i,no_of_iteration))\n",
    "  print(\"\")\n",
    "  print('Error Every 50 Epochs : {}'.format(error_every_50_iteration))\n",
    "  print('Cofficients : {}'.format(coef))\n",
    "  epochs = [50*i for i in range(len(error_every_50_iteration))]\n",
    "  plt.xlabel(\"Epochs\")\n",
    "  plt.ylabel(\"Error\")\n",
    "  plt.title(\"Error V/S Epoch\",fontsize = 20)\n",
    "  plt.plot(epochs,error_every_50_iteration,color='green',linestyle=\"--\",marker='o')\n",
    "  plt.grid(True)\n",
    "  plt.show()\n",
    "\n",
    "  #calculating accuracy for training dataset\n",
    "  y_pred_train = gradientdescent_regressor.predict(x_train)\n",
    "  #print(y_train)\n",
    "  #print(y_pred_train)\n",
    "  print('RMSE--Train: {}'.format(m.rmse(y_train,y_pred_train)))\n",
    "  print('MSE--Train: {}'.format(m.mse(y_train,y_pred_train)))\n",
    "  print('Total Error--Train: {}'.format(m.ssres(y_train,y_pred_train)))\n",
    "  print(\"\")\n",
    "  \n",
    "  #calculating accuracy for testing dataset\n",
    "  y_pred_test = gradientdescent_regressor.predict(x_test)\n",
    "  #print(y_test)\n",
    "  #print(y_pred_test)\n",
    "  print('RMSE--Test: {}'.format(m.rmse(y_test,y_pred_test)))\n",
    "  print('MSE--Test: {}'.format(m.mse(y_test,y_pred_test)))\n",
    "  print('Total Error--Test: {}'.format(m.ssres(y_test,y_pred_test)))\n",
    "  print(\"\")"
   ]
  },
  {
   "cell_type": "code",
   "execution_count": 43,
   "metadata": {},
   "outputs": [
    {
     "name": "stdout",
     "output_type": "stream",
     "text": [
      "Cofficients in each shuffle: [array([0.02016979, 0.25550031, 0.19998188, 0.05489368]), array([0.00915444, 0.26320084, 0.16430426, 0.06663417]), array([-0.02610469,  0.26820768,  0.16008741,  0.04882509]), array([-0.01009396,  0.27762889,  0.15980168,  0.06007429]), array([-0.00344523,  0.28489154,  0.15923448,  0.02726455]), array([0.01149516, 0.29820401, 0.17797235, 0.05078658]), array([-0.00908037,  0.28619052,  0.15163268,  0.04414122]), array([0.00420613, 0.27429257, 0.16156461, 0.03211557]), array([0.00150524, 0.26630782, 0.17987109, 0.08663333]), array([-0.00030624,  0.295577  ,  0.15536543,  0.05707989]), array([-0.00572028,  0.29597394,  0.13523253,  0.06699891]), array([-0.02816329,  0.31944816,  0.15630544,  0.06016399]), array([-0.00532252,  0.28590164,  0.15143339,  0.06157076]), array([-0.00916107,  0.27319769,  0.13592357,  0.06374524]), array([0.00069414, 0.27260347, 0.16276272, 0.04730472]), array([0.01504648, 0.27649241, 0.1839507 , 0.05396132]), array([-0.01244023,  0.25456178,  0.14132152,  0.04854135]), array([-0.00471128,  0.29271733,  0.1621539 ,  0.07448268]), array([-0.00275074,  0.26817251,  0.17115158,  0.03374764]), array([-0.00131007,  0.30913808,  0.18244083,  0.05335479])]\n",
      "Average Cofficients: [-0.0028169296009624718, 0.28091040923962407, 0.1626246030570286, 0.05461598997461843]\n",
      "\n",
      "Error in 1 shuffle: [478.6902269969547  472.9592222214389  467.80167599071865.....430.9548489916365  430.00001307968176  428.3673445186521]\n",
      "Error in 2 shuffle: [446.59276160466925  441.5073050052507  436.9209711481384.....403.71209454340004  402.83198824077  401.32181249101205]\n",
      "Error in 3 shuffle: [449.7247069926607  444.5196590365126  439.83365910188775.....406.2391533270641  405.3615895507049  403.85858112691346]\n",
      "Error in 4 shuffle: [467.50128419430257  461.93009389839455  456.9164011416563.....421.0761357288748  420.14528692633803  418.5527181764953]\n",
      "Error in 5 shuffle: [471.73384251598054  466.3640221739158  461.5201950461387.....426.38668655057154  425.4522840317669  423.8478713333372]\n",
      "Error in 6 shuffle: [493.9496603509243  487.5823802867438  481.8489571112685.....440.7053466708538  439.6293142744046  437.7861935890128]\n",
      "Error in 7 shuffle: [457.2165490721329  451.94873483718317  447.1932440934406.....412.5309962632347  411.60164643454436  410.00390966471946]\n",
      "Error in 8 shuffle: [468.6676017016841  463.4956356398169  458.8332104589468.....425.13576595675625  424.24413593735403  422.714177032198]\n",
      "Error in 9 shuffle: [461.9440907044281  456.3807376916377  451.3621016160114.....414.96471028073717  413.9976447297141  412.33763716732847]\n",
      "Error in 10 shuffle: [476.03215909880475  469.9255107663587  464.4359945112979.....425.4403455176845  424.4368658591209  422.72208302788835]\n",
      "Error in 11 shuffle: [462.63933371018254  457.3256480033364  452.52571729950074.....417.3654051550873  416.41320666433876  414.7730961418059]\n",
      "Error in 12 shuffle: [453.5136649264866  447.0117438406496  441.1442913918009.....398.47866249298716  397.3393954591703  395.38206836411865]\n",
      "Error in 13 shuffle: [457.14367878375543  451.5712070649473  446.5518109165921.....410.46075772462433  409.5139676621201  407.89152961743554]\n",
      "Error in 14 shuffle: [448.5430689144333  443.7901670887262  439.4967563492494.....408.09190605518904  407.24585697849705  405.7905060724722]\n",
      "Error in 15 shuffle: [462.20576630732626  457.18751764348127  452.6526045005576.....419.41285797985216  418.5151624394522  416.97062563565174]\n",
      "Error in 16 shuffle: [480.4534600327804  474.2560570373103  468.6900771498646.....429.4080921544649  428.4098745425115  426.7078927289971]\n",
      "Error in 17 shuffle: [448.9390453143336  444.5502869472822  440.59311348917447.....411.9570991246801  411.19781656804736  409.89451876495355]\n",
      "Error in 18 shuffle: [458.8940432037149  453.4644733664104  448.5450548249279.....411.8928407587865  410.8767283658963  409.1214312121891]\n",
      "Error in 19 shuffle: [478.1684463895592  472.72447475017225  467.8300026622122.....433.03865983533944  432.14275970694416  430.61176902438467]\n",
      "Error in 20 shuffle: [476.03372996808554  469.1101522992035  462.88228241657305.....418.46536490052245  417.3148519291156  415.34686521585945]\n",
      "\n",
      "Total Error in each shuffle -- Train: [421.4083499115218, 394.7041671793336, 397.33284174027483, 411.71346274498796, 416.7699412055283, 429.7853288967025, 402.8868816227525, 415.9879751170387, 405.0458317343887, 415.3990443656201, 407.3226029700113, 386.7112964855585, 400.83161859231984, 399.2935745507875, 410.07912402502916, 419.59282222514673, 404.1462016454159, 401.04294984969147, 424.08025509647985, 406.8840145961576]\n",
      "Mean Total Error -- Train: 408.55091422773734\n",
      "Variance in Total Error -- Train: 111.28259982220561\n",
      "\n",
      "Total Error in each shuffle -- Train: [168.4779721527999, 194.2683752037523, 191.91403173840393, 177.07052274916649, 172.42877961293814, 159.32984225045738, 186.07158976183067, 173.043397234697, 184.48828949519597, 173.52471272504306, 182.2802103959883, 203.6512023051771, 188.06761547710693, 190.16970569798954, 178.64852138582518, 169.39784373853274, 185.56255806597815, 188.0636020056047, 164.94000665363217, 182.62398413569966]\n",
      "Mean Total Error -- Train: 180.70113813929098\n",
      "Variance in Total Error -- Train: 114.29609304498209\n",
      "\n"
     ]
    }
   ],
   "source": [
    "#***************************performing 20 shuffles on train dataset***********************')\n",
    "coefficient_list = list() #to store all the coeff of all 20 difference splits\n",
    "\n",
    "accuracy_list_train = list() #to store training accuracy of all 20 different splits \n",
    "accuracy_list_test = list() #to store testing accuracy of all 20 different splits \n",
    "\n",
    "error_every_50_iteration_list = list() #to store training error for all 20 different splits\n",
    "\n",
    "#for making 20 shuffles\n",
    "for i in range(20): \n",
    "  #command used to shuffle dataset\n",
    "  df_shuffle = df.sample(frac=1)\n",
    "\n",
    "  #performing 70:30 test train split \n",
    "  df_train = df_shuffle.iloc[0:936]\n",
    "  df_test = df_shuffle.iloc[936:]\n",
    "  x_train = np.array(df_train.iloc[:,[0,1,2,3]])\n",
    "  y_train = np.array(df_train.iloc[:,4])\n",
    "  x_test = np.array(df_test.iloc[:,[0,1,2,3]])\n",
    "  y_test = np.array(df_test.iloc[:,4])\n",
    "\n",
    "  #training and storing coefficients\n",
    "  gradientdescent_regressor.fit(x_train,y_train)\n",
    "  coefficient_list.append(gradientdescent_regressor.coef_())\n",
    "\n",
    "  #calculating error for training dataset\n",
    "  no_of_iteration , error_every_50_iteration = gradientdescent_regressor.error_every_50_iteration()\n",
    "  error_every_50_iteration_list.append(error_every_50_iteration)\n",
    "\n",
    "  #calculating accuracy for training dataset\n",
    "  y_pred_train = gradientdescent_regressor.predict(x_train)\n",
    "  #print(y_train)\n",
    "  #print(y_pred_train)\n",
    "  accuracy_list_train.append(m.ssres(y_train,y_pred_train))\n",
    "\n",
    "  #calculating accuracy for testing dataset\n",
    "  y_pred_test = gradientdescent_regressor.predict(x_test)\n",
    "  #print(y_test)\n",
    "  #print(y_pred_test)\n",
    "  accuracy_list_test.append(m.ssres(y_test,y_pred_test))\n",
    "\n",
    "#printing coefficients\n",
    "print('Cofficients in each shuffle: {}'.format(coefficient_list))\n",
    "avg_cofficient = list()\n",
    "for j in range(4):\n",
    "  sum = 0\n",
    "  for i in range(20):\n",
    "    sum = sum + coefficient_list[i][j]\n",
    "  avg_cofficient.append(sum/20)\n",
    "print('Average Cofficients: {}'.format(avg_cofficient))\n",
    "print(\"\")\n",
    "\n",
    "#printing errors in each shuffle\n",
    "for i in range(20):\n",
    "  print(\"Error in {} shuffle: [{}  {}  {}.....{}  {}  {}]\".format(i+1,error_every_50_iteration_list[i][0],error_every_50_iteration_list[i][1],error_every_50_iteration_list[i][2],error_every_50_iteration_list[i][17],error_every_50_iteration_list[i][18],error_every_50_iteration_list[i][20]))\n",
    "print(\"\")\n",
    "\n",
    "#print training accuracy\n",
    "print('Total Error in each shuffle -- Train: {}'.format(accuracy_list_train))\n",
    "print('Mean Total Error -- Train: {}'.format(np.mean(np.array(accuracy_list_train))))\n",
    "print('Variance in Total Error -- Train: {}'.format(np.var(np.array(accuracy_list_train))))\n",
    "print(\"\")\n",
    "\n",
    "#print testing accuracy\n",
    "print('Total Error in each shuffle -- Train: {}'.format(accuracy_list_test))\n",
    "print('Mean Total Error -- Train: {}'.format(np.mean(np.array(accuracy_list_test))))\n",
    "print('Variance in Total Error -- Train: {}'.format(np.var(np.array(accuracy_list_test))))\n",
    "print('')"
   ]
  },
  {
   "cell_type": "markdown",
   "metadata": {},
   "source": [
    "# Linear Regression Using Stochastic_Gradient_Descent"
   ]
  },
  {
   "cell_type": "code",
   "execution_count": 44,
   "metadata": {},
   "outputs": [],
   "source": [
    "#creating objects of the user defined class\n",
    "stochasticgradientdescent_regressor = StochasticGradientDescent()\n",
    "m = evaluation_metric()"
   ]
  },
  {
   "cell_type": "code",
   "execution_count": 45,
   "metadata": {},
   "outputs": [
    {
     "name": "stdout",
     "output_type": "stream",
     "text": [
      "**************************Learning Rate = 0.0001, No of Epochs = 20000*************************\n",
      "Error Every 50 Epochs : [462.15836859 461.4303836  461.14971223 460.89476961 460.30976177\n",
      " 459.33525172 458.99050859 458.72612088 458.46486448 457.89244046\n",
      " 457.49953935 457.23605973 456.33046076 455.97799751 455.12434411\n",
      " 454.34631373 453.9984237  453.07187299 452.93945204 452.69601134\n",
      " 452.38093456 451.99297436 451.61152818 451.0294817  450.31991923\n",
      " 450.29573009 449.97645105 449.38734805 448.87406146 448.44536921\n",
      " 447.55309137 447.29244429 446.65139251 445.78994525 444.86095576\n",
      " 444.50004563 444.1555715  443.80556558 443.52339077 443.01341639\n",
      " 442.34578535 441.55175931 441.02449146 440.69652989 439.6916637\n",
      " 439.55163781 439.02784726 438.61361237 438.20094512 437.73155348\n",
      " 437.64416235 437.1827121  436.99243907 436.25347909 436.09782792\n",
      " 435.57496915 435.22819237 434.67932114 434.31258996 433.76554176\n",
      " 433.52441704 433.46799549 432.90917982 432.57299746 432.41864628\n",
      " 432.02058213 431.28502073 431.0465124  430.33076514 429.53369791\n",
      " 428.90601463 428.57487015 428.35347854 427.98416131 427.83305343\n",
      " 427.77879997 427.66297843 427.67467247 427.4595001  427.06337388\n",
      " 427.03325589 426.72414629 426.44129298 426.14071941 425.65190494\n",
      " 425.39325983 425.25581542 425.10045307 424.95964969 424.85945042\n",
      " 424.7233843  424.22702075 423.98122073 423.47873688 423.30208674\n",
      " 423.17067742 422.97614869 422.84433485 422.6928878  422.35762113\n",
      " 421.85396896 421.38614628 421.38472569 421.27293842 420.90058822\n",
      " 420.78606246 420.52194165 420.42121099 420.36015122 420.14124458\n",
      " 419.95372215 419.59318385 419.25007085 419.09085136 418.93420807\n",
      " 418.83816241 418.27852821 418.26577778 417.94517912 417.75136325\n",
      " 417.64371602 417.34587751 417.29017099 417.13550357 416.91661711\n",
      " 416.71587243 416.76822    416.62149376 416.41481546 416.26827263\n",
      " 416.27168003 416.03147661 415.7664941  415.71358412 415.76266558\n",
      " 415.60566936 415.31759284 415.14830691 414.99351285 414.83864213\n",
      " 414.83965552 414.76754991 414.6627831  414.55413288 414.4193364\n",
      " 414.35910614 414.19351551 413.95330065 413.90209265 413.74916048\n",
      " 413.69769025 413.55988256 413.30269308 413.23138473 413.14487485\n",
      " 413.06261004 412.88552986 412.74932216 412.52542824 412.44662709\n",
      " 412.40194294 412.36715697 412.12060621 412.12077247 412.03909089\n",
      " 411.83990184 411.72396726 411.66070388 411.60742039 411.40741574\n",
      " 411.42245137 411.31758667 411.24451479 411.18777892 411.01613508\n",
      " 411.07171137 410.78155324 410.72430981 410.61489376 410.63898554\n",
      " 410.4781805  410.28440496 410.18790905 410.22386782 410.13936813\n",
      " 410.0601763  409.81160491 409.73424745 409.79075763 409.70764182\n",
      " 409.77048012 409.71584743 409.56079549 409.39011246 409.24830274\n",
      " 409.32774841 409.17063302 409.18797509 409.11359602 409.04876326\n",
      " 409.02625634 408.97926031 408.93765197 408.83013713 408.74951387\n",
      " 408.74211403 408.44015397 408.3815453  408.32009002 408.20450386\n",
      " 408.09644731 407.97937756 407.98997059 407.90367736 407.8148863\n",
      " 407.60606957 407.58821514 407.50206996 407.39659242 407.33809588\n",
      " 407.23634154 407.19786678 407.24801334 407.2315077  407.176967\n",
      " 407.11353992 406.98393663 406.90430984 406.81859128 406.55297286\n",
      " 406.39472908 406.36683259 406.38973064 406.28942162 406.16987888\n",
      " 405.98478867 405.97287492 405.97223099 405.8163638  405.68052953\n",
      " 405.61405964 405.55750939 405.57661464 405.40794744 405.40438886\n",
      " 405.36907612 405.14811811 405.02247269 404.97597892 404.96208454\n",
      " 404.96004742 404.95874836 404.92354456 404.87296654 404.86339913\n",
      " 404.72998619 404.72285659 404.76347375 404.71159915 404.69748954\n",
      " 404.61303803 404.59939413 404.51874477 404.51805411 404.43244779\n",
      " 404.41737141 404.5005667  404.46884723 404.48825066 404.433548\n",
      " 404.33577314 404.26748023 404.22783342 404.20295445 404.256209\n",
      " 404.28252476 404.3111123  404.38055311 404.37849684 404.26003812\n",
      " 404.28444005 404.17279533 404.19352484 404.09851661 404.0588049\n",
      " 403.97788894 403.88690921 403.88757909 403.92354104 403.95910055\n",
      " 403.94105516 403.88229045 403.76034041 403.84233701 403.79103445\n",
      " 403.78437044 403.76781512 403.82636821 403.73105992 403.69895326\n",
      " 403.66752606 403.6207486  403.63860855 403.65132945 403.6941537\n",
      " 403.65170784 403.63772959 403.60146927 403.55781198 403.62080331\n",
      " 403.57592166 403.53207858 403.48973498 403.41095291 403.36332957\n",
      " 403.36291087 403.36705477 403.28610057 403.25595571 403.29424994\n",
      " 403.32341322 403.2905796  403.18335078 403.16684489 403.11401074\n",
      " 403.08061254 403.12472936 403.13302662 403.15223464 403.14163879\n",
      " 403.15400035 403.11660204 403.05397222 403.00637833 403.02483086\n",
      " 402.92461763 402.91735419 402.85300322 402.91326298 402.89001262\n",
      " 402.73668449 402.65304658 402.60344974 402.56407271 402.54644605\n",
      " 402.48311415 402.4570195  402.48740613 402.5106178  402.42028142\n",
      " 402.38519611 402.42309875 402.41089567 402.33134568 402.3260703\n",
      " 402.33982688 402.32416517 402.35563263 402.345203   402.37017312\n",
      " 402.36055153 402.3790206  402.36398571 402.36070707 402.31980022\n",
      " 402.32806821 402.31943335 402.32063622 402.29087598 402.2988175\n",
      " 402.31851911 402.28689087 402.26062712 402.26976277 402.29234913\n",
      " 402.29497483 402.2682837  402.26771163 402.26623977 402.22138651\n",
      " 402.21365372 402.18169375 402.21014579 402.20554852 402.16908573\n",
      " 402.13631215 402.11849335 402.13417138 402.13508761 402.15162942\n",
      " 402.11577674 402.1082714  402.12554231 402.14272335 402.11255842\n",
      " 402.15119154 402.15390292 402.11126444 402.09774302 402.07985227\n",
      " 402.08038743]\n",
      "Cofficients : [-0.03052123  0.27636825  0.14135067  0.03061261]\n"
     ]
    },
    {
     "data": {
      "text/plain": [
       "Text(0.5, 0, 'Epochs')"
      ]
     },
     "execution_count": 45,
     "metadata": {},
     "output_type": "execute_result"
    },
    {
     "data": {
      "text/plain": [
       "Text(0, 0.5, 'Error')"
      ]
     },
     "execution_count": 45,
     "metadata": {},
     "output_type": "execute_result"
    },
    {
     "data": {
      "text/plain": [
       "Text(0.5, 1.0, 'Error V/S Epoch')"
      ]
     },
     "execution_count": 45,
     "metadata": {},
     "output_type": "execute_result"
    },
    {
     "data": {
      "text/plain": [
       "[<matplotlib.lines.Line2D at 0x21275621fa0>]"
      ]
     },
     "execution_count": 45,
     "metadata": {},
     "output_type": "execute_result"
    },
    {
     "data": {
      "image/png": "[encoded data removed]",
      "text/plain": [
       "<Figure size 432x288 with 1 Axes>"
      ]
     },
     "metadata": {
      "needs_background": "light"
     },
     "output_type": "display_data"
    },
    {
     "name": "stdout",
     "output_type": "stream",
     "text": [
      "RMSE--Train: 0.9269013577442345\n",
      "MSE--Train: 0.8591461269881054\n",
      "Total Error--Train: 402.08038743043335\n",
      "\n",
      "RMSE--Test: 0.9672138055155437\n",
      "MSE--Test: 0.93550254557986\n",
      "Total Error--Test: 188.03601166155187\n",
      "\n",
      "**************************Learning Rate = 0.001, No of Epochs = 20000*************************\n",
      "Error Every 50 Epochs : [461.77138313 453.25215063 445.17311125 442.13413248 435.8221483\n",
      " 435.39180515 431.75660226 428.24555323 425.52674669 425.10032134\n",
      " 422.14934804 421.32141105 420.46474355 417.30185505 415.59682633\n",
      " 414.14166613 414.57006707 415.3454075  414.16354517 413.84297363\n",
      " 413.44587192 410.76266172 408.02505739 407.98046138 407.48660298\n",
      " 406.44465148 406.23057411 405.679326   404.74687772 404.16433509\n",
      " 404.57568699 404.10308917 404.70060134 404.89854569 404.77950995\n",
      " 404.78561268 404.05644118 404.26047997 404.12592568 403.88201107\n",
      " 403.92726042 404.71402575 404.36153447 404.15487801 403.59041436\n",
      " 403.22911111 402.9499359  402.98267844 403.16573916 403.32969931\n",
      " 403.13849739 402.48072926 402.35813186 401.89394702 401.73888827\n",
      " 401.9512419  402.20096113 402.3763911  402.07825887 401.97545458\n",
      " 402.00698269 402.44735516 402.12679674 402.74404088 402.67472429\n",
      " 403.13423662 404.47731295 405.02584888 403.94332112 403.66648328\n",
      " 403.39933961 404.22083986 404.50208673 404.37665743 404.43873468\n",
      " 405.81506459 407.84420585 406.84551234 405.8902562  405.44099093\n",
      " 405.62960105 405.43212382 405.26728501 405.11930233 405.25079703\n",
      " 404.27999359 404.18097019 403.96784385 404.65028667 404.66797411\n",
      " 404.6020065  404.44341673 404.55716679 404.33748042 404.71963057\n",
      " 404.22620897 404.03810185 403.80915607 403.85704137 404.05353808\n",
      " 404.25010265 404.94334201 404.73875296 405.16927074 404.4945025\n",
      " 403.8673877  403.84873978 403.74734389 403.59001796 403.33535404\n",
      " 403.07188311 403.29307523 403.08501241 403.05515923 402.7407767\n",
      " 402.72225352 402.60913018 402.40653172 402.67658753 402.55401232\n",
      " 402.37513005 402.77104717 402.74757769 402.37200985 402.1866902\n",
      " 402.17745724 402.31222085 402.23699344 402.28512367 402.28295137\n",
      " 402.11066668 401.98495528 401.88078075 401.87506827 401.72973609\n",
      " 402.07153373 402.1043216  402.14465608 401.97458685 402.37818729\n",
      " 402.17211077 402.41962209 402.60062456 402.33445141 402.08170511\n",
      " 401.81896541 401.9745361  401.87283037 401.84653165 401.93355761\n",
      " 401.80123666 401.90746109 401.78530966 401.73394238 402.00660064\n",
      " 401.89555562 401.9554262  402.12701232 401.95007735 402.01003251\n",
      " 401.75615189 401.92919636 402.29525771 402.38633288 401.99501669\n",
      " 402.01665811 402.02686165 402.15262853 401.9603207  401.96852579\n",
      " 402.11066005 402.12287018 402.32029793 402.56339011 402.60407611\n",
      " 402.25463445 401.96258376 401.91117028 402.28040283 402.03693251\n",
      " 401.85967411 401.87082585 401.84228102 401.81944177 401.99005277\n",
      " 401.8535561  401.89449304 401.88500881 401.96236867 402.16449993\n",
      " 402.20384995 402.48763338 402.47417818 402.36494288 402.48217605\n",
      " 402.41586434 402.44921149 402.79368256 402.36210251 402.03787109\n",
      " 401.8618291  401.84604545 401.7743448  402.03730092 401.89570623\n",
      " 401.95850994 402.18284902 402.51716726 402.52168298 402.30232258\n",
      " 402.04487698 401.91681643 401.98229367 401.88892586 401.73993128\n",
      " 401.75519028 401.7394868  401.85394324 401.89642022 402.10315303\n",
      " 402.7662315  402.72702101 402.53051428 402.60041111 402.73946404\n",
      " 402.56781314 402.3252831  402.49076517 402.38934735 402.75457646\n",
      " 402.24702169 402.54507836 402.40440997 402.50785643 402.36947048\n",
      " 402.22863356 401.94900342 402.26932699 402.32475825 402.29804466\n",
      " 402.28989595 402.45271548 402.23523138 402.39739081 402.55762204\n",
      " 402.44920988 402.17709491 402.28860141 402.32883248 403.02307437\n",
      " 402.73357625 402.77356364 402.61304547 403.29600791 403.53299093\n",
      " 403.79077527 404.06491254 403.26913508 403.2991805  403.33082856\n",
      " 403.26801253 403.36588558 402.68632963 402.90828004 402.66590585\n",
      " 403.14244891 402.95886305 402.73134069 403.05261765 403.60205487\n",
      " 403.20494545 403.15939383 403.45476821 403.54625681 403.47221407\n",
      " 403.5741894  403.01392198 402.67166327 402.72103176 402.73410142\n",
      " 402.51609807 402.5644792  402.24874172 401.98961039 402.20771647\n",
      " 402.36018477 402.23174315 402.31098333 402.60046058 402.69073739\n",
      " 402.50327463 402.36928711 402.54335026 402.72238724 403.38938684\n",
      " 402.92573137 402.54736607 402.76789273 403.27676282 402.46876913\n",
      " 402.54692543 402.10181764 402.21709794 401.97159447 402.14438405\n",
      " 402.10323346 402.19705238 402.26954955 402.1834523  402.37028323\n",
      " 402.57892741 402.69190978 402.65088331 402.37582304 402.47474488\n",
      " 402.36771654 402.64210176 402.90451942 402.8439058  402.21592959\n",
      " 402.25255489 402.31981443 402.7837222  402.57848839 402.29886642\n",
      " 402.03837618 402.32917556 402.27319146 401.90161304 401.98338512\n",
      " 402.00545331 402.363769   402.37831907 402.10311389 402.47288354\n",
      " 402.17895043 402.35847684 402.53338189 402.87050568 402.56362117\n",
      " 402.56079713 403.33220455 403.00387798 403.33070185 403.3459188\n",
      " 403.30185157 403.87679511 404.0054562  403.34949419 403.71735708\n",
      " 403.78640503 403.56753099 403.41155392 403.2545769  402.91964884\n",
      " 402.55762041 402.68814359 402.63809761 402.6806825  402.69736822\n",
      " 402.59088711 402.16592858 402.24925435 402.19457525 402.32532885\n",
      " 402.04438214 402.004744   401.97250593 402.06948768 402.15790416\n",
      " 402.16765195 402.07291942 402.25623345 402.10326611 401.97527073\n",
      " 402.07551697 402.30504947 402.44644182 402.15367226 402.20862635\n",
      " 402.24367616 402.32483479 402.29277939 402.40821461 402.03338683\n",
      " 401.97969398 402.12413562 402.27985357 402.48199392 402.56430032\n",
      " 402.3959226  402.05794414 402.11662    402.29515751 402.09545131\n",
      " 402.17778616 402.12681264 402.24854404 402.23704293 402.23320162\n",
      " 402.29219994]\n",
      "Cofficients : [-0.04408578  0.31694266  0.14070384  0.05981731]\n"
     ]
    },
    {
     "data": {
      "text/plain": [
       "Text(0.5, 0, 'Epochs')"
      ]
     },
     "execution_count": 45,
     "metadata": {},
     "output_type": "execute_result"
    },
    {
     "data": {
      "text/plain": [
       "Text(0, 0.5, 'Error')"
      ]
     },
     "execution_count": 45,
     "metadata": {},
     "output_type": "execute_result"
    },
    {
     "data": {
      "text/plain": [
       "Text(0.5, 1.0, 'Error V/S Epoch')"
      ]
     },
     "execution_count": 45,
     "metadata": {},
     "output_type": "execute_result"
    },
    {
     "data": {
      "text/plain": [
       "[<matplotlib.lines.Line2D at 0x212756358b0>]"
      ]
     },
     "execution_count": 45,
     "metadata": {},
     "output_type": "execute_result"
    },
    {
     "data": {
      "image/png": "[encoded data removed]",
      "text/plain": [
       "<Figure size 432x288 with 1 Axes>"
      ]
     },
     "metadata": {
      "needs_background": "light"
     },
     "output_type": "display_data"
    },
    {
     "name": "stdout",
     "output_type": "stream",
     "text": [
      "RMSE--Train: 0.9271454674551752\n",
      "MSE--Train: 0.8595987178226754\n",
      "Total Error--Train: 402.2921999410121\n",
      "\n",
      "RMSE--Test: 0.9697097716041208\n",
      "MSE--Test: 0.9403370411445161\n",
      "Total Error--Test: 189.00774527004774\n",
      "\n",
      "**************************Learning Rate = 0.01, No of Epochs = 20000*************************\n",
      "Error Every 50 Epochs : [462.89335255 415.2873311  403.97012606 419.11491991 413.20468078\n",
      " 407.24345546 406.17472437 405.81710649 404.0550123  412.83734512\n",
      " 411.73294335 412.54324634 431.19625164 419.38639341 407.71389777\n",
      " 405.02724073 410.89428699 407.96155457 423.00641654 408.17856251\n",
      " 412.3669612  408.25611272 411.00767425 413.08780379 427.3063637\n",
      " 415.67898548 406.49087563 412.06573168 407.54436956 416.11564083\n",
      " 410.74633992 405.51032721 406.94640679 410.21378531 409.94634446\n",
      " 407.79862328 405.55866447 410.80642046 406.12614013 415.51569813\n",
      " 406.81382132 405.12566706 408.43522671 409.57984791 404.77466065\n",
      " 412.28264638 407.81771096 403.79371973 403.4946662  403.79892527\n",
      " 403.84675646 408.98180036 406.90617836 404.41618603 405.93091626\n",
      " 403.68187652 406.15210706 411.47369473 412.1215353  407.23483217\n",
      " 410.91750706 406.18068585 409.25466502 404.63084116 406.48951421\n",
      " 406.63914713 407.70665496 404.64514172 403.74999451 409.93006417\n",
      " 412.65080734 409.17921033 410.12203155 404.53128231 406.29213833\n",
      " 408.89609195 410.28797966 419.32179974 404.62188459 405.69287374\n",
      " 409.56993862 402.74369891 406.14705747 412.22537246 411.4326121\n",
      " 412.35351902 412.53024866 410.34133809 412.68501204 404.44324681\n",
      " 405.1605727  407.31366188 406.27170669 404.78926776 405.10306733\n",
      " 412.20950317 408.54625162 405.60113839 403.09791282 410.46483348\n",
      " 405.9245112  412.1456047  410.48932328 407.27551439 407.89011707\n",
      " 417.39022158 413.32621552 417.17762233 414.36144    410.00222615\n",
      " 407.55194733 415.39410983 407.70615265 412.016945   407.88441913\n",
      " 406.49629409 405.57667767 403.6911413  402.77607122 405.55914134\n",
      " 414.48411541 407.36312816 408.48047065 401.835831   407.12978977\n",
      " 417.00958308 402.38399287 408.49832885 409.92065166 415.71175696\n",
      " 404.58294769 410.41742512 418.87361012 405.56278254 402.05237943\n",
      " 403.3280216  406.39063835 404.17646875 409.37547647 404.32361654\n",
      " 406.37854654 407.97134327 405.45301751 407.71465017 412.44481309\n",
      " 413.49244527 409.43468256 405.11917137 417.86360014 412.19479504\n",
      " 411.3220777  413.78346888 405.45712646 401.9559943  401.83995241\n",
      " 404.24178532 406.53744129 405.54164684 403.37370937 407.87532478\n",
      " 405.10535793 402.15323781 402.44161832 415.10449099 415.55610332\n",
      " 411.87426793 405.38681291 404.42630367 408.66504802 407.13918228\n",
      " 414.87244046 411.79384304 436.32892284 409.68311909 408.05289198\n",
      " 411.16235078 403.33511871 406.02190409 403.9535964  416.69315768\n",
      " 407.63368559 423.02438306 418.30556066 407.09574747 408.57146097\n",
      " 422.32932537 441.22424603 429.52942884 404.75134563 410.7326255\n",
      " 405.08132186 405.1784924  404.94836109 411.47245217 408.14185861\n",
      " 416.56434427 411.69965319 405.60818383 406.24554212 406.38444437\n",
      " 407.71486851 411.95783751 414.60799053 404.38661243 408.18838793\n",
      " 403.1503381  402.36480037 402.99976121 408.94558343 403.61236042\n",
      " 407.52276892 411.08200575 410.20033469 410.59512855 402.31666898\n",
      " 408.91919146 408.78554036 422.08197902 419.81345742 413.9113249\n",
      " 410.20266105 407.33605482 405.43035034 416.34197768 402.6245957\n",
      " 406.87279877 404.06860662 407.08810399 412.53426914 404.29231572\n",
      " 406.09057619 409.57903816 407.29874735 403.95206458 404.04457734\n",
      " 409.86255503 407.50068829 403.93968196 414.65735679 405.11962263\n",
      " 403.82404032 404.73901259 407.57110865 405.83366718 402.26327023\n",
      " 403.756107   409.852103   406.35093695 407.5215543  409.27560911\n",
      " 408.81939359 407.82791122 413.06157944 408.6860867  404.98607408\n",
      " 411.28658186 403.63985417 408.66470455 414.08722473 418.52960892\n",
      " 416.61301783 407.27954095 409.80913529 403.93506509 403.66171605\n",
      " 408.69318579 402.86042226 412.05344012 406.38496858 411.49013576\n",
      " 413.30829184 405.28808003 406.87118408 407.536735   405.2176455\n",
      " 407.81682013 402.86561518 413.9270221  415.98997209 416.96486916\n",
      " 409.44747418 403.57322817 408.67854577 407.92393243 407.59664346\n",
      " 410.42205887 409.07268316 405.34563463 407.89530429 413.0807444\n",
      " 410.67136591 409.82720356 409.82228639 412.64669725 404.99994483\n",
      " 402.81635422 402.60704334 402.46368782 402.36841108 408.09130404\n",
      " 405.87014983 409.49659545 421.24840209 410.72558249 407.62743375\n",
      " 410.11372837 405.31287996 402.92204413 413.92652676 408.24858441\n",
      " 412.44256531 402.5698828  406.69061782 403.20988168 406.84296571\n",
      " 408.03602649 411.98632598 407.59599036 404.68554946 406.18688903\n",
      " 410.53811909 407.85951833 408.09990032 405.45606136 406.4834081\n",
      " 414.84772803 412.01285497 418.78198038 410.06334748 417.42812883\n",
      " 403.68111885 411.6790636  403.53519607 403.99128402 408.49450994\n",
      " 403.86797941 405.28686523 402.25007995 402.70856167 407.1864098\n",
      " 402.92315544 402.56228102 404.65728113 410.59870527 407.39301671\n",
      " 405.15777922 414.14613213 409.63982953 408.55411393 410.6665873\n",
      " 406.52767561 405.55018759 403.26251566 407.21601917 414.83232043\n",
      " 407.37069586 405.02155075 406.70526129 404.09773753 405.07044945\n",
      " 413.44999501 409.20941463 408.46759884 419.32016039 405.80437444\n",
      " 402.11238661 408.82181356 404.75895381 405.09257974 408.62359241\n",
      " 403.64306798 408.14223333 404.52839601 408.9529804  418.50546544\n",
      " 407.82999203 407.04368014 403.64684849 414.06343821 403.22269176\n",
      " 404.70092117 403.12595082 406.78517449 404.65010012 416.04988159\n",
      " 408.33669124 406.23457127 406.85169021 405.13966117 403.90425361\n",
      " 402.7957952  406.96183612 404.87839625 403.29104492 405.73358019\n",
      " 404.93426631 403.80128528 411.23131022 418.56366787 408.08051569\n",
      " 412.14918324]\n",
      "Cofficients : [ 0.0333257   0.35552545  0.20682084 -0.07789403]\n"
     ]
    },
    {
     "data": {
      "text/plain": [
       "Text(0.5, 0, 'Epochs')"
      ]
     },
     "execution_count": 45,
     "metadata": {},
     "output_type": "execute_result"
    },
    {
     "data": {
      "text/plain": [
       "Text(0, 0.5, 'Error')"
      ]
     },
     "execution_count": 45,
     "metadata": {},
     "output_type": "execute_result"
    },
    {
     "data": {
      "text/plain": [
       "Text(0.5, 1.0, 'Error V/S Epoch')"
      ]
     },
     "execution_count": 45,
     "metadata": {},
     "output_type": "execute_result"
    },
    {
     "data": {
      "text/plain": [
       "[<matplotlib.lines.Line2D at 0x212754ddb20>]"
      ]
     },
     "execution_count": 45,
     "metadata": {},
     "output_type": "execute_result"
    },
    {
     "data": {
      "image/png": "[encoded data removed]",
      "text/plain": [
       "<Figure size 432x288 with 1 Axes>"
      ]
     },
     "metadata": {
      "needs_background": "light"
     },
     "output_type": "display_data"
    },
    {
     "name": "stdout",
     "output_type": "stream",
     "text": [
      "RMSE--Train: 0.9384352124432381\n",
      "MSE--Train: 0.8806606479533855\n",
      "Total Error--Train: 412.1491832421844\n",
      "\n",
      "RMSE--Test: 0.9816635860408025\n",
      "MSE--Test: 0.9636633961584881\n",
      "Total Error--Test: 193.6963426278561\n",
      "\n"
     ]
    }
   ],
   "source": [
    "#**********************no shuffling********************\n",
    "#test train split\n",
    "df_train = df.iloc[0:936]\n",
    "df_test = df.iloc[936:]\n",
    "x_train = np.array(df_train.iloc[:,[0,1,2,3]])\n",
    "y_train = np.array(df_train.iloc[:,4])\n",
    "x_test = np.array(df_test.iloc[:,[0,1,2,3]])\n",
    "y_test = np.array(df_test.iloc[:,4])\n",
    "\n",
    "#training\n",
    "learning_rate = [0.0001,0.001,0.01]\n",
    "for i in learning_rate:\n",
    "  print(\"**************************Learning Rate = {}, No of Epochs = 20000*************************\".format(i))\n",
    "  stochasticgradientdescent_regressor.fit(x_train,y_train,i,20000)\n",
    "  coef = stochasticgradientdescent_regressor.coef_()\n",
    "  error_every_50_iteration = stochasticgradientdescent_regressor.error_every_50_iteration()\n",
    "  print('Error Every 50 Epochs : {}'.format(error_every_50_iteration))\n",
    "  print('Cofficients : {}'.format(coef))\n",
    "  epochs = [50*i for i in range(len(error_every_50_iteration))]\n",
    "  plt.xlabel(\"Epochs\")\n",
    "  plt.ylabel(\"Error\")\n",
    "  plt.title(\"Error V/S Epoch\",fontsize = 20)\n",
    "  plt.plot(epochs,error_every_50_iteration,color='green')\n",
    "  plt.grid(True)\n",
    "  plt.show()\n",
    "\n",
    "#calculating accuracy of training dataset\n",
    "  y_pred_train = stochasticgradientdescent_regressor.predict(x_train)\n",
    "  #print(y_train)\n",
    "  #print(y_pred_train)\n",
    "  print('RMSE--Train: {}'.format(m.rmse(y_train,y_pred_train)))\n",
    "  print('MSE--Train: {}'.format(m.mse(y_train,y_pred_train)))\n",
    "  print('Total Error--Train: {}'.format(m.ssres(y_train,y_pred_train)))\n",
    "  print(\"\")\n",
    "\n",
    "#calculating accuracy of testing dataset\n",
    "  y_pred_test = stochasticgradientdescent_regressor.predict(x_test)\n",
    "  #print(y_test)\n",
    "  #print(y_pred_test)\n",
    "  print('RMSE--Test: {}'.format(m.rmse(y_test,y_pred_test)))\n",
    "  print('MSE--Test: {}'.format(m.mse(y_test,y_pred_test)))\n",
    "  print('Total Error--Test: {}'.format(m.ssres(y_test,y_pred_test)))\n",
    "  print(\"\")"
   ]
  },
  {
   "cell_type": "code",
   "execution_count": 46,
   "metadata": {},
   "outputs": [
    {
     "name": "stdout",
     "output_type": "stream",
     "text": [
      "Cofficients in each shuffle: [array([-0.00661735,  0.27765832,  0.17451124,  0.0503359 ]), array([-0.04371584,  0.29121083,  0.20336191,  0.04561273]), array([-0.00230836,  0.27466332,  0.09790534,  0.08301633]), array([-0.00402258,  0.29364895,  0.13574767,  0.06335192]), array([-0.05065802,  0.26150642,  0.17808942,  0.0508501 ]), array([-0.03063917,  0.26021071,  0.13892415,  0.03690081]), array([0.02698566, 0.24799863, 0.19630132, 0.08692665]), array([-0.00342726,  0.24613936,  0.16934496,  0.06804399]), array([-0.02441421,  0.24443258,  0.1651335 ,  0.03147703]), array([-0.04861707,  0.24502139,  0.1410221 ,  0.0885313 ]), array([0.02816179, 0.23584528, 0.20299621, 0.07838585]), array([-0.02904276,  0.2722185 ,  0.10562816,  0.05988208]), array([-0.02594339,  0.22426358,  0.14910836,  0.02593535]), array([-0.01174855,  0.34354697,  0.13442686,  0.07176717]), array([0.02607607, 0.27267154, 0.17941142, 0.06720438]), array([-0.04950267,  0.2669765 ,  0.14936567,  0.06918962]), array([-0.02397222,  0.27067551,  0.16128508,  0.07288513]), array([0.03054093, 0.26845419, 0.18053583, 0.04714052]), array([0.00609134, 0.31562957, 0.21436387, 0.00872241]), array([-0.02687102,  0.25399793,  0.13015748,  0.0473636 ])]\n",
      "Average Cofficients: [-0.013182233599202148, 0.2683385048658488, 0.1603810265388263, 0.05767614421152247]\n",
      "\n",
      "Error in 1 shuffle: [444.18083671690545  435.909721529823  433.9539018756824.....408.79919837992765  407.98101416629163  407.31517127479145]\n",
      "Error in 2 shuffle: [451.5226020044051  442.3685272429776  439.0368872072333.....400.60052557349997  399.97706349320646  401.27972649262716]\n",
      "Error in 3 shuffle: [466.6486748381691  458.85752852165126  449.5810822491208.....431.25885748022387  431.1741477805728  429.5431486027037]\n",
      "Error in 4 shuffle: [481.7928398271171  478.85769852196194  476.35391118770565.....431.2434365768232  430.526180481235  429.35139089352595]\n",
      "Error in 5 shuffle: [451.07544531612984  445.17318082228786  436.32249442608577.....398.35105062946104  397.2735973442599  396.9798275396065]\n",
      "Error in 6 shuffle: [445.3202268269913  439.26468744338285  436.3557846723995.....408.78482587266797  408.2041898760904  406.89902759338224]\n",
      "Error in 7 shuffle: [489.31593754577074  483.26099418781405  478.62221252686163.....440.7288461671923  440.35245364444785  438.74984250433204]\n",
      "Error in 8 shuffle: [465.5818855844321  459.37673719164735  453.46518189755113.....426.1916810810026  424.2607459342332  423.0974847990587]\n",
      "Error in 9 shuffle: [459.1312810187151  450.59711124050636  445.0622307588623.....413.39310207898797  412.85686039936854  411.4109211598918]\n",
      "Error in 10 shuffle: [465.2075218194127  455.2621140147916  451.2720897341062.....411.7015011297599  411.96608300101116  409.4889010578936]\n",
      "Error in 11 shuffle: [484.3336106652101  481.00733661470326  476.8718030143519.....441.8055127732024  441.79050650569883  433.8884826987602]\n",
      "Error in 12 shuffle: [468.3528805438557  458.0574901396067  452.5298370802576.....417.0420804023782  415.95711943451226  415.4936502706953]\n",
      "Error in 13 shuffle: [460.909324122101  451.3325326999302  448.2752511168313.....415.97701839199055  414.24005373895983  414.3464265963768]\n",
      "Error in 14 shuffle: [464.386627788512  456.79883422732314  451.5485572966985.....415.98489952735866  414.5100899568487  413.1968080488332]\n",
      "Error in 15 shuffle: [473.295528866295  466.6041639024644  461.03273483853087.....430.5130917995425  429.70954768224334  428.13407675427936]\n",
      "Error in 16 shuffle: [476.13454207770104  472.4145105948245  469.3708088588619.....423.23817673532324  422.7097329556803  422.58035823569355]\n",
      "Error in 17 shuffle: [450.6941054512379  442.0641736661303  438.2963190578064.....408.7898310072149  409.26064929624783  406.82773063681066]\n",
      "Error in 18 shuffle: [472.00286882125727  466.42658356778423  454.48717860814827.....410.8663562226549  410.9122595387338  408.85699750965637]\n",
      "Error in 19 shuffle: [472.93768248171375  464.099045584444  457.7072533616511.....424.64398077135695  421.65639722035144  420.599215382265]\n",
      "Error in 20 shuffle: [435.5539931485618  432.6267208553253  431.3960338902085.....398.88447920730835  397.79618187587585  397.1916368306099]\n",
      "\n",
      "Total Error in each shuffle -- Train: [402.16089550281515, 394.6791229355788, 424.75302104951135, 422.169017919618, 392.54432493239955, 399.77263980185967, 431.0395831794985, 412.8780182947603, 408.8335707551397, 405.7258682234062, 427.4846706299427, 412.33896605383484, 406.9056771683358, 404.44485192223226, 422.66389340423757, 416.03414398714096, 401.8249829480429, 406.6991854598783, 415.47183730395227, 393.4740338877449]\n",
      "Mean Total Error -- Train: 410.0949152679965\n",
      "Variance in Total Error -- Train: 123.53957416181183\n",
      "\n",
      "Total Error in each shuffle -- Train: [186.56667211424352, 196.3400578009355, 167.68865469625848, 167.30481857761785, 198.0799692614797, 190.56584510299805, 159.84101525073714, 176.58114673467242, 181.39150671069527, 186.55920579323498, 163.89971094561355, 179.51455137131418, 185.14920457754377, 187.81100474886358, 166.67100138818583, 174.72987239368166, 187.51183783814244, 182.77911628638904, 177.11703052618537, 197.158026684648]\n",
      "Mean Total Error -- Train: 180.66301244017205\n",
      "Variance in Total Error -- Train: 121.74484952382525\n",
      "\n"
     ]
    }
   ],
   "source": [
    "#**************************performing 20 shuffles on train dataset***********************')\n",
    "coefficient_list = list() #to store all the coeff of all 20 difference splits\n",
    "\n",
    "accuracy_list_train = list() #to store training accuracy of all 20 different splits \n",
    "accuracy_list_test = list() #to store testing accuracy of all 20 different splits \n",
    "\n",
    "error_every_50_iteration_list = list() #to store training error for all 20 different splits\n",
    "\n",
    "#for making 20 shuffles\n",
    "for i in range(20): \n",
    "  #command used to shuffle dataset\n",
    "  df_shuffle = df.sample(frac=1) \n",
    "\n",
    "  #performing 70:30 test train split\n",
    "  df_train = df_shuffle.iloc[0:936]\n",
    "  df_test = df_shuffle.iloc[936:]\n",
    "  x_train = np.array(df_train.iloc[:,[0,1,2,3]])\n",
    "  y_train = np.array(df_train.iloc[:,4])\n",
    "  x_test = np.array(df_test.iloc[:,[0,1,2,3]])\n",
    "  y_test = np.array(df_test.iloc[:,4])\n",
    "\n",
    "  #training and storing coefficients\n",
    "  stochasticgradientdescent_regressor.fit(x_train,y_train,0.001,20000)\n",
    "  coefficient_list.append(stochasticgradientdescent_regressor.coef_())\n",
    "\n",
    "  #calculating error for training dataset\n",
    "  error_every_50_iteration = stochasticgradientdescent_regressor.error_every_50_iteration()\n",
    "  error_every_50_iteration_list.append(error_every_50_iteration)\n",
    "\n",
    "  #calculating accuracy for training dataset\n",
    "  y_pred_train = stochasticgradientdescent_regressor.predict(x_train)\n",
    "  #print(y_train)\n",
    "  #print(y_pred_train)\n",
    "  accuracy_list_train.append(m.ssres(y_train,y_pred_train))\n",
    "\n",
    "  #calculating accuracy for testing dataset\n",
    "  y_pred_test = stochasticgradientdescent_regressor.predict(x_test)\n",
    "  #print(y_test)\n",
    "  #print(y_pred_test)\n",
    "  accuracy_list_test.append(m.ssres(y_test,y_pred_test))\n",
    "\n",
    "#printing coefficients\n",
    "print('Cofficients in each shuffle: {}'.format(coefficient_list))\n",
    "avg_cofficient = list()\n",
    "for j in range(4):\n",
    "  sum = 0\n",
    "  for i in range(20):\n",
    "    sum = sum + coefficient_list[i][j]\n",
    "  avg_cofficient.append(sum/20)\n",
    "print('Average Cofficients: {}'.format(avg_cofficient))\n",
    "print(\"\")\n",
    "\n",
    "#printing errors in each shuffle\n",
    "for i in range(20):\n",
    "  print(\"Error in {} shuffle: [{}  {}  {}.....{}  {}  {}]\".format(i+1,error_every_50_iteration_list[i][0],error_every_50_iteration_list[i][1],error_every_50_iteration_list[i][2],error_every_50_iteration_list[i][17],error_every_50_iteration_list[i][18],error_every_50_iteration_list[i][20]))\n",
    "print(\"\")\n",
    "\n",
    "#print training accuracy\n",
    "print('Total Error in each shuffle -- Train: {}'.format(accuracy_list_train))\n",
    "print('Mean Total Error -- Train: {}'.format(np.mean(np.array(accuracy_list_train))))\n",
    "print('Variance in Total Error -- Train: {}'.format(np.var(np.array(accuracy_list_train))))\n",
    "print(\"\")\n",
    "\n",
    "#print testing accuracy\n",
    "print('Total Error in each shuffle -- Train: {}'.format(accuracy_list_test))\n",
    "print('Mean Total Error -- Train: {}'.format(np.mean(np.array(accuracy_list_test))))\n",
    "print('Variance in Total Error -- Train: {}'.format(np.var(np.array(accuracy_list_test))))\n",
    "print('')"
   ]
  },
  {
   "cell_type": "code",
   "execution_count": null,
   "metadata": {},
   "outputs": [],
   "source": []
  }
 ],
 "metadata": {
  "kernelspec": {
   "display_name": "Python 3",
   "language": "python",
   "name": "python3"
  },
  "language_info": {
   "codemirror_mode": {
    "name": "ipython",
    "version": 3
   },
   "file_extension": ".py",
   "mimetype": "text/x-python",
   "name": "python",
   "nbconvert_exporter": "python",
   "pygments_lexer": "ipython3",
   "version": "3.8.3"
  }
 },
 "nbformat": 4,
 "nbformat_minor": 4
}
